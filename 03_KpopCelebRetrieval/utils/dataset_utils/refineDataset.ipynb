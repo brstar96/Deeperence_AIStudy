{
 "cells": [
  {
   "cell_type": "markdown",
   "metadata": {},
   "source": [
    "## Train set, reference set 나누기\n",
    "Image retrieval task에서는 일반적인 classification task와는 다르게 reference set과 query set이 존재합니다. \n",
    "\n",
    "- reference set : 학습이 완료된 모델에 통과시킨 후 feature vector들을 임베딩하기 위해 사용됩니다. \n",
    "- query set : 흔히 지금까지 알아 온 test set으로, 임베딩된 reference set의 feature vector들로부터 query image의 feature vector가 얼마나 멀리 떨어져 있는지 계산하기 위해 사용됩니다. \n",
    "\n",
    "Image retrieval task에서는 학습된 모델을 feature extractor로 사용해 수십~수백 장의 reference images를 임베딩합니다. 이후 query image가 들어오면 query image도 마찬가지로 학습된 모델에 통과시켜 feature vector를 얻어낸 후 사전에 임베딩된 reference image feature vector들과 유사도를 구하게 됩니다. 이 유사도가 높은 순으로 결과를 정렬해 보여주는 것이 image retrieval task입니다. \n",
    "\n",
    "이 노트북에서는 전체 이미지 데이터셋을 `Train set`과 `Reference set`으로만 나눕니다. `Query set`은 구글링을 통해 따로 모을 예정입니다. "
   ]
  },
  {
   "cell_type": "code",
   "execution_count": 1,
   "metadata": {},
   "outputs": [],
   "source": [
    "import os\n",
    "import pandas as pd\n",
    "\n",
    "dataset_path = './../../../KPopGirls/Images'\n",
    "filenames = os.listdir(dataset_path)"
   ]
  },
  {
   "cell_type": "code",
   "execution_count": 2,
   "metadata": {},
   "outputs": [
    {
     "data": {
      "text/plain": [
       "25"
      ]
     },
     "execution_count": 2,
     "metadata": {},
     "output_type": "execute_result"
    }
   ],
   "source": [
    "import re\n",
    "\n",
    "celebnameonly_list = []\n",
    "\n",
    "for name in os.listdir(dataset_path):\n",
    "    celebnameonly_list.append(re.sub('[^a-zA-Z]', '', str(name.split('.')[0])))\n",
    "    \n",
    "unique_celeb_names = sorted(list(set(celebnameonly_list)))\n",
    "len(unique_celeb_names)"
   ]
  },
  {
   "cell_type": "code",
   "execution_count": 3,
   "metadata": {},
   "outputs": [],
   "source": [
    "celeb_df = pd.DataFrame(filenames, columns=['filename'])\n",
    "celeb_df['celebname'] = celeb_df['filename']\n",
    "celeb_df['celebname'] = celeb_df['celebname'].str.replace('\\d+.jpg', '')"
   ]
  },
  {
   "cell_type": "code",
   "execution_count": 4,
   "metadata": {},
   "outputs": [
    {
     "data": {
      "text/html": [
       "<div>\n",
       "<style scoped>\n",
       "    .dataframe tbody tr th:only-of-type {\n",
       "        vertical-align: middle;\n",
       "    }\n",
       "\n",
       "    .dataframe tbody tr th {\n",
       "        vertical-align: top;\n",
       "    }\n",
       "\n",
       "    .dataframe thead th {\n",
       "        text-align: right;\n",
       "    }\n",
       "</style>\n",
       "<table border=\"1\" class=\"dataframe\">\n",
       "  <thead>\n",
       "    <tr style=\"text-align: right;\">\n",
       "      <th></th>\n",
       "      <th>filename</th>\n",
       "      <th>celebname</th>\n",
       "    </tr>\n",
       "  </thead>\n",
       "  <tbody>\n",
       "    <tr>\n",
       "      <th>0</th>\n",
       "      <td>arin001.jpg</td>\n",
       "      <td>arin</td>\n",
       "    </tr>\n",
       "    <tr>\n",
       "      <th>1</th>\n",
       "      <td>arin002.jpg</td>\n",
       "      <td>arin</td>\n",
       "    </tr>\n",
       "    <tr>\n",
       "      <th>2</th>\n",
       "      <td>arin003.jpg</td>\n",
       "      <td>arin</td>\n",
       "    </tr>\n",
       "    <tr>\n",
       "      <th>3</th>\n",
       "      <td>arin004.jpg</td>\n",
       "      <td>arin</td>\n",
       "    </tr>\n",
       "    <tr>\n",
       "      <th>4</th>\n",
       "      <td>arin005.jpg</td>\n",
       "      <td>arin</td>\n",
       "    </tr>\n",
       "  </tbody>\n",
       "</table>\n",
       "</div>"
      ],
      "text/plain": [
       "      filename celebname\n",
       "0  arin001.jpg      arin\n",
       "1  arin002.jpg      arin\n",
       "2  arin003.jpg      arin\n",
       "3  arin004.jpg      arin\n",
       "4  arin005.jpg      arin"
      ]
     },
     "execution_count": 4,
     "metadata": {},
     "output_type": "execute_result"
    }
   ],
   "source": [
    "celeb_df.head(5)"
   ]
  },
  {
   "cell_type": "code",
   "execution_count": 5,
   "metadata": {},
   "outputs": [
    {
     "name": "stderr",
     "output_type": "stream",
     "text": [
      "C:\\ProgramData\\Anaconda3\\lib\\site-packages\\ipykernel_launcher.py:5: SettingWithCopyWarning: \n",
      "A value is trying to be set on a copy of a slice from a DataFrame.\n",
      "Try using .loc[row_indexer,col_indexer] = value instead\n",
      "\n",
      "See the caveats in the documentation: http://pandas.pydata.org/pandas-docs/stable/indexing.html#indexing-view-versus-copy\n",
      "  \"\"\"\n"
     ]
    }
   ],
   "source": [
    "i = 0\n",
    "celeb_df_groups = []\n",
    "\n",
    "for name, group in celeb_df.groupby('celebname'):\n",
    "    group['class']=i\n",
    "    i+=1\n",
    "    celeb_df_groups.append(group)\n",
    "celeb_df = pd.concat(celeb_df_groups).set_index('filename')"
   ]
  },
  {
   "cell_type": "code",
   "execution_count": 6,
   "metadata": {},
   "outputs": [
    {
     "data": {
      "text/html": [
       "<div>\n",
       "<style scoped>\n",
       "    .dataframe tbody tr th:only-of-type {\n",
       "        vertical-align: middle;\n",
       "    }\n",
       "\n",
       "    .dataframe tbody tr th {\n",
       "        vertical-align: top;\n",
       "    }\n",
       "\n",
       "    .dataframe thead th {\n",
       "        text-align: right;\n",
       "    }\n",
       "</style>\n",
       "<table border=\"1\" class=\"dataframe\">\n",
       "  <thead>\n",
       "    <tr style=\"text-align: right;\">\n",
       "      <th></th>\n",
       "      <th>celebname</th>\n",
       "      <th>class</th>\n",
       "    </tr>\n",
       "    <tr>\n",
       "      <th>filename</th>\n",
       "      <th></th>\n",
       "      <th></th>\n",
       "    </tr>\n",
       "  </thead>\n",
       "  <tbody>\n",
       "    <tr>\n",
       "      <th>arin001.jpg</th>\n",
       "      <td>arin</td>\n",
       "      <td>0</td>\n",
       "    </tr>\n",
       "    <tr>\n",
       "      <th>arin002.jpg</th>\n",
       "      <td>arin</td>\n",
       "      <td>0</td>\n",
       "    </tr>\n",
       "    <tr>\n",
       "      <th>arin003.jpg</th>\n",
       "      <td>arin</td>\n",
       "      <td>0</td>\n",
       "    </tr>\n",
       "    <tr>\n",
       "      <th>arin004.jpg</th>\n",
       "      <td>arin</td>\n",
       "      <td>0</td>\n",
       "    </tr>\n",
       "    <tr>\n",
       "      <th>arin005.jpg</th>\n",
       "      <td>arin</td>\n",
       "      <td>0</td>\n",
       "    </tr>\n",
       "  </tbody>\n",
       "</table>\n",
       "</div>"
      ],
      "text/plain": [
       "            celebname  class\n",
       "filename                    \n",
       "arin001.jpg      arin      0\n",
       "arin002.jpg      arin      0\n",
       "arin003.jpg      arin      0\n",
       "arin004.jpg      arin      0\n",
       "arin005.jpg      arin      0"
      ]
     },
     "execution_count": 6,
     "metadata": {},
     "output_type": "execute_result"
    }
   ],
   "source": [
    "celeb_df.head(5)"
   ]
  },
  {
   "cell_type": "markdown",
   "metadata": {},
   "source": [
    "## Force sampling 20 images per class from `celeb_df` dataframe\n",
    "\n",
    "이제, 각 `class`로부터 랜덤하게 20장씩 샘플링해 `reference set`을 만든 후 `celeb_df`에서 `reference set`을 제거해 `train_celeb_df`와 `reference_celeb_df`를 생성하겠습니다."
   ]
  },
  {
   "cell_type": "code",
   "execution_count": 7,
   "metadata": {},
   "outputs": [],
   "source": [
    "sampled_class_df_list = []\n",
    "for index, group in celeb_df.groupby(celeb_df['celebname']):\n",
    "    sampled_df = group.sample(n=20)\n",
    "    sampled_class_df_list.append(sampled_df)\n",
    "reference_celeb_df = pd.concat(sampled_class_df_list).sort_values('filename')"
   ]
  },
  {
   "cell_type": "code",
   "execution_count": 8,
   "metadata": {},
   "outputs": [
    {
     "data": {
      "text/html": [
       "<div>\n",
       "<style scoped>\n",
       "    .dataframe tbody tr th:only-of-type {\n",
       "        vertical-align: middle;\n",
       "    }\n",
       "\n",
       "    .dataframe tbody tr th {\n",
       "        vertical-align: top;\n",
       "    }\n",
       "\n",
       "    .dataframe thead th {\n",
       "        text-align: right;\n",
       "    }\n",
       "</style>\n",
       "<table border=\"1\" class=\"dataframe\">\n",
       "  <thead>\n",
       "    <tr style=\"text-align: right;\">\n",
       "      <th></th>\n",
       "      <th>celebname</th>\n",
       "      <th>class</th>\n",
       "    </tr>\n",
       "    <tr>\n",
       "      <th>filename</th>\n",
       "      <th></th>\n",
       "      <th></th>\n",
       "    </tr>\n",
       "  </thead>\n",
       "  <tbody>\n",
       "    <tr>\n",
       "      <th>arin031.jpg</th>\n",
       "      <td>arin</td>\n",
       "      <td>0</td>\n",
       "    </tr>\n",
       "    <tr>\n",
       "      <th>arin038.jpg</th>\n",
       "      <td>arin</td>\n",
       "      <td>0</td>\n",
       "    </tr>\n",
       "    <tr>\n",
       "      <th>arin047.jpg</th>\n",
       "      <td>arin</td>\n",
       "      <td>0</td>\n",
       "    </tr>\n",
       "    <tr>\n",
       "      <th>arin051.jpg</th>\n",
       "      <td>arin</td>\n",
       "      <td>0</td>\n",
       "    </tr>\n",
       "    <tr>\n",
       "      <th>arin055.jpg</th>\n",
       "      <td>arin</td>\n",
       "      <td>0</td>\n",
       "    </tr>\n",
       "  </tbody>\n",
       "</table>\n",
       "</div>"
      ],
      "text/plain": [
       "            celebname  class\n",
       "filename                    \n",
       "arin031.jpg      arin      0\n",
       "arin038.jpg      arin      0\n",
       "arin047.jpg      arin      0\n",
       "arin051.jpg      arin      0\n",
       "arin055.jpg      arin      0"
      ]
     },
     "execution_count": 8,
     "metadata": {},
     "output_type": "execute_result"
    }
   ],
   "source": [
    "reference_celeb_df.head(5)"
   ]
  },
  {
   "cell_type": "code",
   "execution_count": 21,
   "metadata": {},
   "outputs": [
    {
     "data": {
      "image/png": "[encoded data removed]",
      "text/plain": [
       "<Figure size 1800x432 with 1 Axes>"
      ]
     },
     "metadata": {
      "needs_background": "light"
     },
     "output_type": "display_data"
    }
   ],
   "source": [
    "import seaborn as sns\n",
    "import matplotlib.pyplot as plt\n",
    "\n",
    "plt.figure(figsize=(25, 6)) # class id가 겹쳐 출력되지 않게 고의로 가로 사이즈를 늘렸습니다.\n",
    "sns.countplot(reference_celeb_df[\"celebname\"], order=reference_celeb_df[\"celebname\"].value_counts(ascending=True).index)\n",
    "plt.title(\"(reference set)Number of celeb name per each class\")\n",
    "plt.show()"
   ]
  },
  {
   "cell_type": "markdown",
   "metadata": {},
   "source": [
    "강제로 test dataframe을 만들었으니, `celeb_df` 데이터프레임에서 `train set`만 분리해 보겠습니다."
   ]
  },
  {
   "cell_type": "code",
   "execution_count": 10,
   "metadata": {},
   "outputs": [],
   "source": [
    "train_celeb_df = celeb_df[~(celeb_df.index.isin(reference_celeb_df.index))].sort_values('filename')"
   ]
  },
  {
   "cell_type": "code",
   "execution_count": 11,
   "metadata": {},
   "outputs": [
    {
     "data": {
      "text/html": [
       "<div>\n",
       "<style scoped>\n",
       "    .dataframe tbody tr th:only-of-type {\n",
       "        vertical-align: middle;\n",
       "    }\n",
       "\n",
       "    .dataframe tbody tr th {\n",
       "        vertical-align: top;\n",
       "    }\n",
       "\n",
       "    .dataframe thead th {\n",
       "        text-align: right;\n",
       "    }\n",
       "</style>\n",
       "<table border=\"1\" class=\"dataframe\">\n",
       "  <thead>\n",
       "    <tr style=\"text-align: right;\">\n",
       "      <th></th>\n",
       "      <th>celebname</th>\n",
       "      <th>class</th>\n",
       "    </tr>\n",
       "    <tr>\n",
       "      <th>filename</th>\n",
       "      <th></th>\n",
       "      <th></th>\n",
       "    </tr>\n",
       "  </thead>\n",
       "  <tbody>\n",
       "    <tr>\n",
       "      <th>arin001.jpg</th>\n",
       "      <td>arin</td>\n",
       "      <td>0</td>\n",
       "    </tr>\n",
       "    <tr>\n",
       "      <th>arin002.jpg</th>\n",
       "      <td>arin</td>\n",
       "      <td>0</td>\n",
       "    </tr>\n",
       "    <tr>\n",
       "      <th>arin003.jpg</th>\n",
       "      <td>arin</td>\n",
       "      <td>0</td>\n",
       "    </tr>\n",
       "    <tr>\n",
       "      <th>arin004.jpg</th>\n",
       "      <td>arin</td>\n",
       "      <td>0</td>\n",
       "    </tr>\n",
       "    <tr>\n",
       "      <th>arin005.jpg</th>\n",
       "      <td>arin</td>\n",
       "      <td>0</td>\n",
       "    </tr>\n",
       "  </tbody>\n",
       "</table>\n",
       "</div>"
      ],
      "text/plain": [
       "            celebname  class\n",
       "filename                    \n",
       "arin001.jpg      arin      0\n",
       "arin002.jpg      arin      0\n",
       "arin003.jpg      arin      0\n",
       "arin004.jpg      arin      0\n",
       "arin005.jpg      arin      0"
      ]
     },
     "execution_count": 11,
     "metadata": {},
     "output_type": "execute_result"
    }
   ],
   "source": [
    "train_celeb_df.head()"
   ]
  },
  {
   "cell_type": "code",
   "execution_count": 12,
   "metadata": {},
   "outputs": [
    {
     "data": {
      "image/png": "[encoded data removed]",
      "text/plain": [
       "<Figure size 1800x432 with 1 Axes>"
      ]
     },
     "metadata": {
      "needs_background": "light"
     },
     "output_type": "display_data"
    }
   ],
   "source": [
    "plt.figure(figsize=(25, 6)) # class id가 겹쳐 출력되지 않게 고의로 가로 사이즈를 늘렸습니다.\n",
    "sns.countplot(train_celeb_df[\"celebname\"], order=train_celeb_df[\"celebname\"].value_counts(ascending=True).index)\n",
    "plt.title(\"(train set)Number of celeb name per each class\")\n",
    "plt.show()"
   ]
  },
  {
   "cell_type": "markdown",
   "metadata": {},
   "source": [
    "## Save both dataframe into `.csv` files.\n",
    "이제 두 dataframe을 각각 `train.csv`와 `reference.csv`로 저장하겠습니다."
   ]
  },
  {
   "cell_type": "code",
   "execution_count": 13,
   "metadata": {},
   "outputs": [],
   "source": [
    "train_celeb_df.to_csv('train.csv')\n",
    "reference_celeb_df.to_csv('reference.csv')"
   ]
  },
  {
   "cell_type": "markdown",
   "metadata": {},
   "source": [
    "## Query set 만들고 저장하기"
   ]
  },
  {
   "cell_type": "code",
   "execution_count": 14,
   "metadata": {},
   "outputs": [],
   "source": [
    "query_dataset_path = './../../../KPopGirls/QueryImages'\n",
    "query_filenames = os.listdir(query_dataset_path)"
   ]
  },
  {
   "cell_type": "code",
   "execution_count": 15,
   "metadata": {},
   "outputs": [
    {
     "data": {
      "text/plain": [
       "25"
      ]
     },
     "execution_count": 15,
     "metadata": {},
     "output_type": "execute_result"
    }
   ],
   "source": [
    "query_celebnameonly_list = []\n",
    "\n",
    "for name in os.listdir(query_dataset_path):\n",
    "    query_celebnameonly_list.append(re.sub('[^a-zA-Z]', '', str(name.split('.')[0])).replace('query', ''))\n",
    "    \n",
    "query_unique_celeb_names = sorted(list(set(query_celebnameonly_list)))\n",
    "len(query_unique_celeb_names)"
   ]
  },
  {
   "cell_type": "code",
   "execution_count": 16,
   "metadata": {},
   "outputs": [],
   "source": [
    "q_celeb_df = pd.DataFrame(query_filenames, columns=['filename'])\n",
    "q_celeb_df['celebname'] = q_celeb_df['filename']\n",
    "q_celeb_df['celebname'] = q_celeb_df['celebname'].str.replace('_query\\d+.jpg', '')"
   ]
  },
  {
   "cell_type": "code",
   "execution_count": 17,
   "metadata": {},
   "outputs": [
    {
     "data": {
      "text/html": [
       "<div>\n",
       "<style scoped>\n",
       "    .dataframe tbody tr th:only-of-type {\n",
       "        vertical-align: middle;\n",
       "    }\n",
       "\n",
       "    .dataframe tbody tr th {\n",
       "        vertical-align: top;\n",
       "    }\n",
       "\n",
       "    .dataframe thead th {\n",
       "        text-align: right;\n",
       "    }\n",
       "</style>\n",
       "<table border=\"1\" class=\"dataframe\">\n",
       "  <thead>\n",
       "    <tr style=\"text-align: right;\">\n",
       "      <th></th>\n",
       "      <th>filename</th>\n",
       "      <th>celebname</th>\n",
       "    </tr>\n",
       "  </thead>\n",
       "  <tbody>\n",
       "    <tr>\n",
       "      <th>0</th>\n",
       "      <td>arin_query001.jpg</td>\n",
       "      <td>arin</td>\n",
       "    </tr>\n",
       "    <tr>\n",
       "      <th>1</th>\n",
       "      <td>arin_query002.jpg</td>\n",
       "      <td>arin</td>\n",
       "    </tr>\n",
       "    <tr>\n",
       "      <th>2</th>\n",
       "      <td>chaewon_query001.jpg</td>\n",
       "      <td>chaewon</td>\n",
       "    </tr>\n",
       "    <tr>\n",
       "      <th>3</th>\n",
       "      <td>chaewon_query002.jpg</td>\n",
       "      <td>chaewon</td>\n",
       "    </tr>\n",
       "    <tr>\n",
       "      <th>4</th>\n",
       "      <td>chaeyeon_query001.jpg</td>\n",
       "      <td>chaeyeon</td>\n",
       "    </tr>\n",
       "  </tbody>\n",
       "</table>\n",
       "</div>"
      ],
      "text/plain": [
       "                filename celebname\n",
       "0      arin_query001.jpg      arin\n",
       "1      arin_query002.jpg      arin\n",
       "2   chaewon_query001.jpg   chaewon\n",
       "3   chaewon_query002.jpg   chaewon\n",
       "4  chaeyeon_query001.jpg  chaeyeon"
      ]
     },
     "execution_count": 17,
     "metadata": {},
     "output_type": "execute_result"
    }
   ],
   "source": [
    "q_celeb_df.head(5)"
   ]
  },
  {
   "cell_type": "code",
   "execution_count": 18,
   "metadata": {},
   "outputs": [
    {
     "name": "stderr",
     "output_type": "stream",
     "text": [
      "C:\\ProgramData\\Anaconda3\\lib\\site-packages\\ipykernel_launcher.py:5: SettingWithCopyWarning: \n",
      "A value is trying to be set on a copy of a slice from a DataFrame.\n",
      "Try using .loc[row_indexer,col_indexer] = value instead\n",
      "\n",
      "See the caveats in the documentation: http://pandas.pydata.org/pandas-docs/stable/indexing.html#indexing-view-versus-copy\n",
      "  \"\"\"\n"
     ]
    }
   ],
   "source": [
    "i = 0\n",
    "q_celeb_df_groups = []\n",
    "\n",
    "for name, group in q_celeb_df.groupby('celebname'):\n",
    "    group['class']=i\n",
    "    i+=1\n",
    "    q_celeb_df_groups.append(group)\n",
    "q_celeb_df = pd.concat(q_celeb_df_groups).set_index('filename')"
   ]
  },
  {
   "cell_type": "code",
   "execution_count": 19,
   "metadata": {},
   "outputs": [
    {
     "data": {
      "text/html": [
       "<div>\n",
       "<style scoped>\n",
       "    .dataframe tbody tr th:only-of-type {\n",
       "        vertical-align: middle;\n",
       "    }\n",
       "\n",
       "    .dataframe tbody tr th {\n",
       "        vertical-align: top;\n",
       "    }\n",
       "\n",
       "    .dataframe thead th {\n",
       "        text-align: right;\n",
       "    }\n",
       "</style>\n",
       "<table border=\"1\" class=\"dataframe\">\n",
       "  <thead>\n",
       "    <tr style=\"text-align: right;\">\n",
       "      <th></th>\n",
       "      <th>celebname</th>\n",
       "      <th>class</th>\n",
       "    </tr>\n",
       "    <tr>\n",
       "      <th>filename</th>\n",
       "      <th></th>\n",
       "      <th></th>\n",
       "    </tr>\n",
       "  </thead>\n",
       "  <tbody>\n",
       "    <tr>\n",
       "      <th>arin_query001.jpg</th>\n",
       "      <td>arin</td>\n",
       "      <td>0</td>\n",
       "    </tr>\n",
       "    <tr>\n",
       "      <th>arin_query002.jpg</th>\n",
       "      <td>arin</td>\n",
       "      <td>0</td>\n",
       "    </tr>\n",
       "    <tr>\n",
       "      <th>chaewon_query001.jpg</th>\n",
       "      <td>chaewon</td>\n",
       "      <td>1</td>\n",
       "    </tr>\n",
       "    <tr>\n",
       "      <th>chaewon_query002.jpg</th>\n",
       "      <td>chaewon</td>\n",
       "      <td>1</td>\n",
       "    </tr>\n",
       "    <tr>\n",
       "      <th>chaeyeon_query001.jpg</th>\n",
       "      <td>chaeyeon</td>\n",
       "      <td>2</td>\n",
       "    </tr>\n",
       "  </tbody>\n",
       "</table>\n",
       "</div>"
      ],
      "text/plain": [
       "                      celebname  class\n",
       "filename                              \n",
       "arin_query001.jpg          arin      0\n",
       "arin_query002.jpg          arin      0\n",
       "chaewon_query001.jpg    chaewon      1\n",
       "chaewon_query002.jpg    chaewon      1\n",
       "chaeyeon_query001.jpg  chaeyeon      2"
      ]
     },
     "execution_count": 19,
     "metadata": {},
     "output_type": "execute_result"
    }
   ],
   "source": [
    "q_celeb_df.head(5)"
   ]
  },
  {
   "cell_type": "code",
   "execution_count": 20,
   "metadata": {},
   "outputs": [],
   "source": [
    "q_celeb_df.to_csv('query.csv')"
   ]
  }
 ],
 "metadata": {
  "kernelspec": {
   "display_name": "Python 3",
   "language": "python",
   "name": "python3"
  },
  "language_info": {
   "codemirror_mode": {
    "name": "ipython",
    "version": 3
   },
   "file_extension": ".py",
   "mimetype": "text/x-python",
   "name": "python",
   "nbconvert_exporter": "python",
   "pygments_lexer": "ipython3",
   "version": "3.7.3"
  }
 },
 "nbformat": 4,
 "nbformat_minor": 2
}
